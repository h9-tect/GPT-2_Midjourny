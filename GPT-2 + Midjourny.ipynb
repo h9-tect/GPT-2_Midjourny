{
  "nbformat": 4,
  "nbformat_minor": 0,
  "metadata": {
    "colab": {
      "provenance": []
    },
    "kernelspec": {
      "name": "python3",
      "display_name": "Python 3"
    },
    "language_info": {
      "name": "python"
    }
  },
  "cells": [
    {
      "cell_type": "code",
      "source": [
        "!pip install torch\n",
        "!pip install transformers\n",
        "!pip install replicate"
      ],
      "metadata": {
        "id": "MT0L0xh9jNai"
      },
      "execution_count": null,
      "outputs": []
    },
    {
      "cell_type": "code",
      "source": [
        "from transformers import GPT2Tokenizer, GPT2LMHeadModel\n",
        "import replicate\n",
        "import os\n",
        "\n",
        "tokenizer = GPT2Tokenizer.from_pretrained(\"gpt2\")\n",
        "model = GPT2LMHeadModel.from_pretrained(\"gpt2\", pad_token_id=tokenizer.eos_token_id)\n",
        "\n",
        "input_text = \"Once upon a time,\"\n",
        "input_ids = tokenizer.encode(input_text, return_tensors='pt')\n",
        "output = model.generate(input_ids, max_length=200, num_return_sequences=3, do_sample=True, top_k=50, top_p=0.95, temperature=1.1)\n",
        "stories = [tokenizer.decode(sequence, skip_special_tokens=True) for sequence in output]\n",
        "\n",
        "api_token = \"r8_bRIFRbZ2sfQQ0esXruKga8EFnAxdKxO159kJZ\"\n",
        "os.environ[\"REPLICATE_API_TOKEN\"] = api_token\n",
        "\n",
        "for i, story in enumerate(stories):\n",
        "    output = replicate.run(\n",
        "        \"tstramer/midjourney-diffusion:436b051ebd8f68d23e83d22de5e198e0995357afef113768c20f0b6fcef23c8b\",\n",
        "        input={\"prompt\": story}\n",
        "    )\n",
        "    print(\"Story\", i+1, \":\")\n",
        "    print(story)\n",
        "    print(\"\\nOutput Text:\")\n",
        "    print(output)\n",
        "    print(\"\\n---\\n\")\n",
        "\n"
      ],
      "metadata": {
        "colab": {
          "base_uri": "https://localhost:8080/"
        },
        "id": "7dIyJBoliHu9",
        "outputId": "027ca8ad-0155-4de9-e0f4-a5510cc3cb31"
      },
      "execution_count": 47,
      "outputs": [
        {
          "output_type": "stream",
          "name": "stdout",
          "text": [
            "Story 1 :\n",
            "Once upon a time, all that was true, but in the beginning they were all so alike, that there were so many that they seemed to differ very much in their form. One of them looked very well, another very well; another seemed very bad but in their beauty it was no more so than they could be. The same man in the same way, he was different, though indeed his complexion was very different, and he could also give himself and do so no longer. The one that was very happy, but not so well behaved, seemed to be very ill and in misery. He often left his country in such a condition that his body did not be strong enough, and sometimes used to beat up all the little boys to death by biting them while he was alive. In time he learnt to read, and after he had mastered his alphabet, started to learn more, and he was always trying to make progress in his task. He used to read with a handkerchief or an\n",
            "\n",
            "Output Text:\n",
            "['https://replicate.delivery/pbxt/vjHP2xeggaX2OafawWa46csCQsPtmf0A2fSOBlDdvUeiKmtHC/out-0.png']\n",
            "\n",
            "---\n",
            "\n",
            "Story 2 :\n",
            "Once upon a time, this was an important issue, and my wife and I were at least considering giving ourselves over to the use of their personal computers in the event a fire went out. (We had previously worked in several small, small cities where there was a great deal of overlap: our home town was one of them, and the same could be said for Seattle. While the two locations were in proximity, we were able to live within the same city for a short time.) And so, we put the whole thing out of our minds with our computerized devices, without any concern for their safety. (We were aware of no particular danger associated with an explosion if we used our laptops at the time — even if, for some reason, they did not appear to have a fire alarm, but not quite.) Our most pressing consideration was the possibility that we might lose the \"big brother,\" the ability to control our computer in any way that I might not want it to. We knew that\n",
            "\n",
            "Output Text:\n",
            "['https://replicate.delivery/pbxt/RojxSLtm8DZhIdSVj5OQKHq8eVya5rAxkocaQMNG6WKyY2eQA/out-0.png']\n",
            "\n",
            "---\n",
            "\n",
            "Story 3 :\n",
            "Once upon a time, my name came up on a news report in Russia where my family, I was on a tour of the country for a summer vacation. We left, we followed a few days later as the train carrying a cargo of cargo to D.C., left the town of Sochi, Russia and got on the train. When we walked down the highway, they stopped. They looked at me. I just got up and walked to the door, and was stopped because there was nothing we could do, because I had no hair, and they just said to stop, and then I had to do the same thing. And then I had to start all over again, and finally I said, okay, I got on. I was ready for it.\"\n",
            "\n",
            "\"I did not want my own life in front of strangers to get ruined or to lose me, my personal safety, as my main thing. I had just given up on freedom. I was at a crossroads of trying\n",
            "\n",
            "Output Text:\n",
            "['https://replicate.delivery/pbxt/TgiZv68c1eRyekSADsMTeiwetcgIptQHqET7ODvW6jfpOmtHC/out-0.png']\n",
            "\n",
            "---\n",
            "\n"
          ]
        }
      ]
    }
  ]
}